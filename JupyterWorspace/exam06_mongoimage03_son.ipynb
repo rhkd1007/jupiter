{
 "cells": [
  {
   "cell_type": "code",
   "execution_count": 1,
   "id": "53836c46",
   "metadata": {},
   "outputs": [],
   "source": [
    "from pymongo import MongoClient\n",
    "import urllib.request\n",
    "from io import BytesIO\n",
    "from PIL import Image\n",
    "from gridfs import GridFSBucket, GridFS"
   ]
  },
  {
   "cell_type": "code",
   "execution_count": 2,
   "id": "94e0f66f",
   "metadata": {},
   "outputs": [
    {
     "data": {
      "text/plain": [
       "Database(MongoClient(host=['localhost:27017'], document_class=dict, tz_aware=False, connect=True), 'python_test')"
      ]
     },
     "execution_count": 2,
     "metadata": {},
     "output_type": "execute_result"
    }
   ],
   "source": [
    "db = MongoClient().python_test\n",
    "db"
   ]
  },
  {
   "cell_type": "code",
   "execution_count": 3,
   "id": "5c789093",
   "metadata": {},
   "outputs": [
    {
     "data": {
      "text/plain": [
       "<gridfs.GridFS at 0x1fcb12ab730>"
      ]
     },
     "execution_count": 3,
     "metadata": {},
     "output_type": "execute_result"
    }
   ],
   "source": [
    "fs = GridFS(db)\n",
    "fs"
   ]
  },
  {
   "cell_type": "code",
   "execution_count": 6,
   "id": "eb2b212b",
   "metadata": {},
   "outputs": [
    {
     "name": "stdout",
     "output_type": "stream",
     "text": [
      "f =  <_io.BufferedReader name='ko_wordCloud.jpg'>\n"
     ]
    }
   ],
   "source": [
    "with open('ko_wordCloud.jpg','rb')as f:\n",
    "    fs.put(f, filename = 'ko_wordCloud.jpg')\n",
    "    print('f = ',f)"
   ]
  },
  {
   "cell_type": "code",
   "execution_count": 8,
   "id": "7eca9d5d",
   "metadata": {},
   "outputs": [
    {
     "data": {
      "text/plain": [
       "4"
      ]
     },
     "execution_count": 8,
     "metadata": {},
     "output_type": "execute_result"
    }
   ],
   "source": [
    "image_list = list(db.fs.files.find())\n",
    "len(image_list)"
   ]
  },
  {
   "cell_type": "code",
   "execution_count": 13,
   "id": "9bba59a9",
   "metadata": {},
   "outputs": [],
   "source": [
    "fs = fs.get_last_version(filename='ko_wordCloud.jpg')\n",
    "dataImage = fs.read()"
   ]
  },
  {
   "cell_type": "code",
   "execution_count": 14,
   "id": "d8909172",
   "metadata": {},
   "outputs": [],
   "source": [
    "real_image = Image.open(BytesIO(dataImage))\n",
    "real_image.show()"
   ]
  },
  {
   "cell_type": "code",
   "execution_count": null,
   "id": "b4e0370d",
   "metadata": {},
   "outputs": [],
   "source": []
  }
 ],
 "metadata": {
  "kernelspec": {
   "display_name": "Python 3 (ipykernel)",
   "language": "python",
   "name": "python3"
  },
  "language_info": {
   "codemirror_mode": {
    "name": "ipython",
    "version": 3
   },
   "file_extension": ".py",
   "mimetype": "text/x-python",
   "name": "python",
   "nbconvert_exporter": "python",
   "pygments_lexer": "ipython3",
   "version": "3.9.13"
  }
 },
 "nbformat": 4,
 "nbformat_minor": 5
}
