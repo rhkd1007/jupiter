{
 "cells": [
  {
   "cell_type": "code",
   "execution_count": 1,
   "id": "b1b5a82d",
   "metadata": {},
   "outputs": [
    {
     "name": "stdout",
     "output_type": "stream",
     "text": [
      "Requirement already satisfied: pymongo in c:\\users\\admin\\anaconda3\\lib\\site-packages (4.3.3)\n",
      "Requirement already satisfied: dnspython<3.0.0,>=1.16.0 in c:\\users\\admin\\anaconda3\\lib\\site-packages (from pymongo) (2.3.0)\n"
     ]
    }
   ],
   "source": [
    "# !pip install pymongo"
   ]
  },
  {
   "cell_type": "code",
   "execution_count": 2,
   "id": "1d8f808a",
   "metadata": {},
   "outputs": [
    {
     "data": {
      "text/plain": [
       "Database(MongoClient(host=['localhost:27017'], document_class=dict, tz_aware=False, connect=True), 'python_test01')"
      ]
     },
     "execution_count": 2,
     "metadata": {},
     "output_type": "execute_result"
    }
   ],
   "source": [
    "from pymongo import MongoClient\n",
    "from gridfs import GridFS\n",
    "db = MongoClient().python_test01\n",
    "db"
   ]
  },
  {
   "cell_type": "code",
   "execution_count": 3,
   "id": "33dbd9f3",
   "metadata": {},
   "outputs": [
    {
     "data": {
      "text/plain": [
       "<gridfs.GridFS at 0x1e73d5db070>"
      ]
     },
     "execution_count": 3,
     "metadata": {},
     "output_type": "execute_result"
    }
   ],
   "source": [
    "fs = GridFS(db)\n",
    "fs"
   ]
  },
  {
   "cell_type": "code",
   "execution_count": 4,
   "id": "129392ad",
   "metadata": {},
   "outputs": [
    {
     "name": "stdout",
     "output_type": "stream",
     "text": [
      "f =  <_io.BufferedReader name='test12.txt'>\n"
     ]
    }
   ],
   "source": [
    "with open('test12.txt','rb') as f :\n",
    "    fs.put(f, filename='test11.txt')\n",
    "    print('f = ',f)"
   ]
  },
  {
   "cell_type": "code",
   "execution_count": 5,
   "id": "4a2b5ab0",
   "metadata": {},
   "outputs": [
    {
     "name": "stdout",
     "output_type": "stream",
     "text": [
      "<pymongo.cursor.Cursor object at 0x000001E73D5DB550>\n"
     ]
    }
   ],
   "source": [
    "print(db.fs.files.find())"
   ]
  },
  {
   "cell_type": "code",
   "execution_count": 6,
   "id": "d3215638",
   "metadata": {},
   "outputs": [
    {
     "name": "stdout",
     "output_type": "stream",
     "text": [
      "[{'_id': ObjectId('63f70087cb1d3651c51e722a'), 'filename': 'test.txt', 'chunkSize': 261120, 'length': 62, 'uploadDate': datetime.datetime(2023, 2, 23, 5, 58, 31, 369000)}, {'_id': ObjectId('63f701b7f76b4acfced55a1d'), 'filename': 'test.txt', 'chunkSize': 261120, 'length': 62, 'uploadDate': datetime.datetime(2023, 2, 23, 6, 3, 35, 898000)}, {'_id': ObjectId('63f702d3008d7cf3ba976bba'), 'filename': 'test11.txt', 'chunkSize': 261120, 'length': 66, 'uploadDate': datetime.datetime(2023, 2, 23, 6, 8, 20, 2000)}, {'_id': ObjectId('63f7030729f5901c0b13d178'), 'filename': 'test12.txt', 'chunkSize': 261120, 'length': 66, 'uploadDate': datetime.datetime(2023, 2, 23, 6, 9, 11, 339000)}]\n",
      "4\n"
     ]
    }
   ],
   "source": [
    "fs_list = list(db.fs.files.find())\n",
    "print(fs_list)\n",
    "print(len(fs_list))"
   ]
  },
  {
   "cell_type": "code",
   "execution_count": 12,
   "id": "4b7f4aff",
   "metadata": {},
   "outputs": [
    {
     "data": {
      "text/plain": [
       "'mongo test 몽고DB GRIDFS 에 저장할 내용입니다.!!!!!1212'"
      ]
     },
     "execution_count": 12,
     "metadata": {},
     "output_type": "execute_result"
    }
   ],
   "source": [
    "f=fs.get_last_version(filename='test11.txt')\n",
    "f_decode = f.read().decode('utf-8')\n",
    "f_decode"
   ]
  },
  {
   "cell_type": "code",
   "execution_count": 13,
   "id": "b1a27789",
   "metadata": {},
   "outputs": [
    {
     "data": {
      "text/plain": [
       "'mongo test 몽고DB GRIDFS 에 저장할 내용입니다.!!!!!'"
      ]
     },
     "execution_count": 13,
     "metadata": {},
     "output_type": "execute_result"
    }
   ],
   "source": [
    "f=fs.get_last_version(filename='test.txt')\n",
    "f_decode = f.read().decode('utf-8')\n",
    "f_decode"
   ]
  },
  {
   "cell_type": "code",
   "execution_count": null,
   "id": "d5f15ad6",
   "metadata": {},
   "outputs": [],
   "source": []
  },
  {
   "cell_type": "code",
   "execution_count": null,
   "id": "ab926602",
   "metadata": {},
   "outputs": [],
   "source": []
  },
  {
   "cell_type": "code",
   "execution_count": null,
   "id": "d140c0f8",
   "metadata": {},
   "outputs": [],
   "source": []
  }
 ],
 "metadata": {
  "kernelspec": {
   "display_name": "Python 3 (ipykernel)",
   "language": "python",
   "name": "python3"
  },
  "language_info": {
   "codemirror_mode": {
    "name": "ipython",
    "version": 3
   },
   "file_extension": ".py",
   "mimetype": "text/x-python",
   "name": "python",
   "nbconvert_exporter": "python",
   "pygments_lexer": "ipython3",
   "version": "3.9.13"
  }
 },
 "nbformat": 4,
 "nbformat_minor": 5
}
